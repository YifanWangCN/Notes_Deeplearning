{
 "cells": [
  {
   "cell_type": "code",
   "execution_count": 2,
   "id": "16932f6e",
   "metadata": {},
   "outputs": [],
   "source": [
    "import math\n",
    "import numpy as np\n",
    "import h5py\n",
    "import matplotlib.pyplot as plt\n",
    "import matplotlib.image as mpimg\n",
    "import tensorflow as tf\n",
    "from tensorflow.python.framework import ops\n",
    "\n",
    "import cnn_utils\n",
    "\n",
    "%matplotlib inline\n",
    "np.random.seed(1)"
   ]
  },
  {
   "cell_type": "code",
   "execution_count": 3,
   "id": "8bc3463c",
   "metadata": {},
   "outputs": [],
   "source": [
    "X_train_orig , Y_train_orig , X_test_orig , Y_test_orig , classes = cnn_utils.load_dataset()"
   ]
  },
  {
   "cell_type": "code",
   "execution_count": 4,
   "id": "d42e66fb",
   "metadata": {},
   "outputs": [
    {
     "name": "stdout",
     "output_type": "stream",
     "text": [
      "y = 2\n",
      "[0 1 2 3 4 5]\n"
     ]
    },
    {
     "data": {
      "image/png": "[encoded data removed]",
      "text/plain": [
       "<Figure size 432x288 with 1 Axes>"
      ]
     },
     "metadata": {
      "needs_background": "light"
     },
     "output_type": "display_data"
    }
   ],
   "source": [
    "index = 6\n",
    "plt.imshow(X_train_orig[index])\n",
    "print (\"y = \" + str(np.squeeze(Y_train_orig[:, index])))\n",
    "print (classes)"
   ]
  },
  {
   "cell_type": "code",
   "execution_count": 5,
   "id": "d1857cee",
   "metadata": {},
   "outputs": [
    {
     "name": "stdout",
     "output_type": "stream",
     "text": [
      "number of training examples = 1080\n",
      "number of test examples = 120\n",
      "X_train shape: (1080, 64, 64, 3)\n",
      "Y_train shape: (1080, 6)\n",
      "X_test shape: (120, 64, 64, 3)\n",
      "Y_test shape: (120, 6)\n"
     ]
    }
   ],
   "source": [
    "X_train = X_train_orig/255.\n",
    "X_test = X_test_orig/255.\n",
    "Y_train = cnn_utils.convert_to_one_hot(Y_train_orig, 6).T\n",
    "Y_test = cnn_utils.convert_to_one_hot(Y_test_orig, 6).T\n",
    "print (\"number of training examples = \" + str(X_train.shape[0]))\n",
    "print (\"number of test examples = \" + str(X_test.shape[0]))\n",
    "print (\"X_train shape: \" + str(X_train.shape))\n",
    "print (\"Y_train shape: \" + str(Y_train.shape))\n",
    "print (\"X_test shape: \" + str(X_test.shape))\n",
    "print (\"Y_test shape: \" + str(Y_test.shape))\n",
    "\n",
    "#创建了一个字典\n",
    "conv_layers = {}"
   ]
  },
  {
   "cell_type": "markdown",
   "id": "2307410b",
   "metadata": {},
   "source": [
    "### 创建placeholders\n",
    "TensorFlow要求您为运行会话时将输入到模型中的输入数据创建占位符。现在我们要实现创建占位符的函数，因为我们使用的是小批量数据块，输入的样本数量可能不固定，所以我们在数量那里我们要使用None作为可变数量。"
   ]
  },
  {
   "cell_type": "code",
   "execution_count": 6,
   "id": "e3e2c31c",
   "metadata": {},
   "outputs": [],
   "source": [
    "def create_placeholders(n_H0,n_W0, n_C0, n_y):\n",
    "    \"\"\"\n",
    "    为session创建占位符\n",
    "    \n",
    "    参数：\n",
    "        n_H0 - 实数，输入图像的高度\n",
    "        n_W0 - 实数，输入图像的宽度\n",
    "        n_C0 - 实数，输入的通道数\n",
    "        n_y  - 实数，分类数\n",
    "        \n",
    "    输出：\n",
    "        X - 输入数据的占位符，维度为[None, n_H0, n_W0, n_C0]，类型为\"float\"\n",
    "        Y - 输入\n",
    "    \"\"\"\n",
    "    X = tf.placeholder(tf.float32,[None,n_H0,n_W0,n_C0])\n",
    "    Y = tf.placeholder(tf.float32,[None,n_y])\n",
    "    \n",
    "    return X,Y"
   ]
  },
  {
   "cell_type": "code",
   "execution_count": 7,
   "id": "2255a95d",
   "metadata": {},
   "outputs": [
    {
     "name": "stdout",
     "output_type": "stream",
     "text": [
      "X = Tensor(\"Placeholder:0\", shape=(?, 64, 64, 3), dtype=float32)\n",
      "Y = Tensor(\"Placeholder_1:0\", shape=(?, 6), dtype=float32)\n"
     ]
    }
   ],
   "source": [
    "# 占位符的作用便是一开始变量不进行赋值，在会话里再进行赋值操作\n",
    "X , Y = create_placeholders(64,64,3,6)\n",
    "print (\"X = \" + str(X))\n",
    "print (\"Y = \" + str(Y))"
   ]
  },
  {
   "cell_type": "markdown",
   "id": "a7ec0504",
   "metadata": {},
   "source": [
    "### 初始化参数\n",
    "\n",
    "现在我们将使用tf.contrib.layers.xavier_initializer(seed = 0) 来初始化权值/过滤器W 1 W1W1、W 2 W2W2。在这里，我们不需要考虑偏置，因为TensorFlow会考虑到的。需要注意的是我们只需要初始化为2D卷积函数，全连接层TensorFlow会自动初始化的\n"
   ]
  },
  {
   "cell_type": "code",
   "execution_count": 18,
   "id": "3a16ab10",
   "metadata": {},
   "outputs": [],
   "source": [
    "def initialize_parameters():\n",
    "    \"\"\"\n",
    "    初始化权值矩阵，这里我们把权值矩阵硬编码：\n",
    "    W1 : [4, 4, 3, 8]\n",
    "    W2 : [2, 2, 8, 16]\n",
    "    \n",
    "    返回：\n",
    "        包含了tensor类型的W1、W2的字典\n",
    "    \"\"\"\n",
    "    tf.set_random_seed(1)\n",
    "    W1 = tf.get_variable(\"W1\",[4,4,3,8],initializer=tf.contrib.layers.xavier_initializer(seed=0))\n",
    "    W2 = tf.get_variable(\"W2\",[2,2,8,16],initializer=tf.contrib.layers.xavier_initializer(seed=0))\n",
    "\n",
    "    parameters = {\"W1\": W1,\n",
    "                  \"W2\": W2}\n",
    "    \n",
    "    return parameters"
   ]
  },
  {
   "cell_type": "markdown",
   "id": "41083cd6",
   "metadata": {},
   "source": [
    "### CNN前向传播"
   ]
  },
  {
   "cell_type": "code",
   "execution_count": 20,
   "id": "93af7855",
   "metadata": {},
   "outputs": [],
   "source": [
    "def forward_propagation(X,parameters):\n",
    "    \"\"\"\n",
    "    X 为输入数据的placeholder\n",
    "    parameters -包含权重初始化的字典\n",
    "    \"\"\"\n",
    "    W1 = parameters['W1']\n",
    "    W2 = parameters['W2']\n",
    "    \n",
    "    #第一层 卷积，Relu，最大池化\n",
    "    Z1 = tf.nn.conv2d(X,W1,strides=[1,1,1,1],padding=\"SAME\")\n",
    "    A1 = tf.nn.relu(Z1)\n",
    "    P1 = tf.nn.max_pool(A1,ksize=[1,8,8,1],strides=[1,8,8,1],padding=\"SAME\")\n",
    "    \n",
    "    #第二层 卷积，Relu，最大池化\n",
    "    Z2 = tf.nn.conv2d(P1,W2,strides=[1,1,1,1],padding=\"SAME\")\n",
    "    A2 = tf.nn.relu(Z2)\n",
    "    P2 = tf.nn.max_pool(A2,ksize=[1,4,4,1],strides=[1,4,4,1],padding=\"SAME\")\n",
    "    \n",
    "    #进入全连接层之前，将值变为列向量\n",
    "    P = tf.contrib.layers.flatten(P2)\n",
    "    \n",
    "    #全连接层（FC）：使用没有非线性激活函数的全连接层\n",
    "    Z3 = tf.contrib.layers.fully_connected(P,6,activation_fn=None)\n",
    "    \n",
    "    \n",
    "    return Z3"
   ]
  },
  {
   "cell_type": "markdown",
   "id": "64768d77",
   "metadata": {},
   "source": [
    "### 计算成本"
   ]
  },
  {
   "cell_type": "code",
   "execution_count": 11,
   "id": "e92d121b",
   "metadata": {},
   "outputs": [],
   "source": [
    "def compute_cost(Z3,Y):\n",
    "    cost = tf.reduce_mean(tf.nn.softmax_cross_entropy_with_logits(logits=Z3,labels=Y))\n",
    "    \n",
    "    return cost"
   ]
  },
  {
   "cell_type": "code",
   "execution_count": 16,
   "id": "7b1320a5",
   "metadata": {},
   "outputs": [],
   "source": [
    "def model(X_train, Y_train, X_test, Y_test, learning_rate=0.005, num_epochs=100,minibatch_size=64,print_cost=True,isPlot=True):\n",
    "    \"\"\"\n",
    "    使用TensorFlow实现三层的卷积神经网络\n",
    "    CONV2D -> RELU -> MAXPOOL -> CONV2D -> RELU -> MAXPOOL -> FLATTEN -> FULLYCONNECTED\n",
    "    \n",
    "    参数：\n",
    "        X_train - 训练数据，维度为(None, 64, 64, 3)\n",
    "        Y_train - 训练数据对应的标签，维度为(None, n_y = 6)\n",
    "        X_test - 测试数据，维度为(None, 64, 64, 3)\n",
    "        Y_test - 训练数据对应的标签，维度为(None, n_y = 6)\n",
    "        learning_rate - 学习率\n",
    "        num_epochs - 遍历整个数据集的次数\n",
    "        minibatch_size - 每个小批量数据块的大小\n",
    "        print_cost - 是否打印成本值，每遍历100次整个数据集打印一次\n",
    "        isPlot - 是否绘制图谱\n",
    "        \n",
    "    返回：\n",
    "        train_accuracy - 实数，训练集的准确度\n",
    "        test_accuracy - 实数，测试集的准确度\n",
    "        parameters - 学习后的参数\n",
    "    \"\"\"\n",
    "    ops.reset_default_graph()  #能够重新运行模型而不覆盖tf变量\n",
    "    tf.set_random_seed(1)    #确保你的数据和我一样\n",
    "    seed = 3                 #指定numpy的随机种子\n",
    "    (m , n_H0, n_W0, n_C0) = X_train.shape\n",
    "    n_y = Y_train.shape[1]\n",
    "    costs = []\n",
    "    \n",
    "    #为当前维度创建占位符\n",
    "    X , Y = create_placeholders(n_H0, n_W0, n_C0, n_y)\n",
    "    \n",
    "    #初始化参数\n",
    "    parameters = initialize_parameters()\n",
    "    \n",
    "    #前向传播\n",
    "    Z3 = forward_propagation(X,parameters)\n",
    "    \n",
    "    #计算成本\n",
    "    cost = compute_cost(Z3,Y)\n",
    "    \n",
    "    #反向传播，由于框架已经实现了反向传播，我们只需要选择一个优化器就行了\n",
    "    optimizer = tf.train.AdamOptimizer(learning_rate=learning_rate).minimize(cost)\n",
    "    \n",
    "    #全局初始化所有变量\n",
    "    init = tf.global_variables_initializer()\n",
    "    \n",
    "    #开始运行\n",
    "    with tf.Session() as sess:\n",
    "        #初始化参数\n",
    "        sess.run(init)\n",
    "        #开始遍历数据集\n",
    "        for epoch in range(num_epochs):\n",
    "            minibatch_cost = 0\n",
    "            num_minibatches = int(m / minibatch_size) #获取数据块的数量\n",
    "            seed = seed + 1\n",
    "            minibatches = cnn_utils.random_mini_batches(X_train,Y_train,minibatch_size,seed) \n",
    "            \n",
    "            #对每个数据块进行处理\n",
    "            for minibatch in minibatches:\n",
    "                #选择一个数据块\n",
    "                (minibatch_X,minibatch_Y) = minibatch\n",
    "                #最小化这个数据块的成本\n",
    "                _ , temp_cost = sess.run([optimizer,cost],feed_dict={X:minibatch_X, Y:minibatch_Y})\n",
    "                \n",
    "                #累加数据块的成本值\n",
    "                minibatch_cost += temp_cost / num_minibatches\n",
    "    \n",
    "            #是否打印成本\n",
    "            if print_cost:\n",
    "                #每5代打印一次\n",
    "                if epoch % 5 == 0:\n",
    "                    print(\"当前是第 \" + str(epoch) + \" 代，成本值为：\" + str(minibatch_cost))\n",
    "            \n",
    "            #记录成本\n",
    "            if epoch % 1 == 0:\n",
    "                costs.append(minibatch_cost)\n",
    "        \n",
    "        #数据处理完毕，绘制成本曲线\n",
    "        if isPlot:\n",
    "            plt.plot(np.squeeze(costs))\n",
    "            plt.ylabel('cost')\n",
    "            plt.xlabel('iterations (per tens)')\n",
    "            plt.title(\"Learning rate =\" + str(learning_rate))\n",
    "            plt.show()\n",
    "        \n",
    "        #开始预测数据\n",
    "        ## 计算当前的预测情况\n",
    "        predict_op = tf.arg_max(Z3,1)\n",
    "        corrent_prediction = tf.equal(predict_op , tf.arg_max(Y,1))\n",
    "        \n",
    "        ##计算准确度\n",
    "        accuracy = tf.reduce_mean(tf.cast(corrent_prediction,\"float\"))\n",
    "        print(\"corrent_prediction accuracy= \" + str(accuracy))\n",
    "        \n",
    "        train_accuracy = accuracy.eval({X: X_train, Y: Y_train})\n",
    "        test_accuary = accuracy.eval({X: X_test, Y: Y_test})\n",
    "        \n",
    "        print(\"训练集准确度：\" + str(train_accuracy))\n",
    "        print(\"测试集准确度：\" + str(test_accuary))\n",
    "        \n",
    "        return (train_accuracy,test_accuary,parameters)"
   ]
  },
  {
   "cell_type": "code",
   "execution_count": 17,
   "id": "e63ab3ba",
   "metadata": {},
   "outputs": [
    {
     "name": "stdout",
     "output_type": "stream",
     "text": [
      "当前是第 0 代，成本值为：1.9278876036405563\n",
      "当前是第 5 代，成本值为：1.845426045358181\n",
      "当前是第 10 代，成本值为：1.4731189832091331\n",
      "当前是第 15 代，成本值为：1.180015567690134\n",
      "当前是第 20 代，成本值为：0.9155827909708023\n",
      "当前是第 25 代，成本值为：0.7175841778516769\n",
      "当前是第 30 代，成本值为：0.5994123294949532\n",
      "当前是第 35 代，成本值为：0.5167286414653063\n",
      "当前是第 40 代，成本值为：0.45254041254520416\n",
      "当前是第 45 代，成本值为：0.4243014696985483\n",
      "当前是第 50 代，成本值为：0.3758271522819996\n",
      "当前是第 55 代，成本值为：0.34033692814409733\n",
      "当前是第 60 代，成本值为：0.3110103877261281\n",
      "当前是第 65 代，成本值为：0.2817193027585745\n",
      "当前是第 70 代，成本值为：0.28300803899765015\n",
      "当前是第 75 代，成本值为：0.254154060035944\n",
      "当前是第 80 代，成本值为：0.25048872269690037\n",
      "当前是第 85 代，成本值为：0.22925395611673594\n",
      "当前是第 90 代，成本值为：0.2153951139189303\n",
      "当前是第 95 代，成本值为：0.19814041117206216\n",
      "当前是第 100 代，成本值为：0.18291781609877944\n",
      "当前是第 105 代，成本值为：0.16687637753784657\n",
      "当前是第 110 代，成本值为：0.2045952184125781\n",
      "当前是第 115 代，成本值为：0.13935072114691138\n",
      "当前是第 120 代，成本值为：0.13594077760353684\n",
      "当前是第 125 代，成本值为：0.18142900057137012\n",
      "当前是第 130 代，成本值为：0.12134561222046614\n",
      "当前是第 135 代，成本值为：0.12255884078331292\n",
      "当前是第 140 代，成本值为：0.12156387255527079\n",
      "当前是第 145 代，成本值为：0.09823128418065608\n"
     ]
    },
    {
     "data": {
      "image/png": "[encoded data removed]",
      "text/plain": [
       "<Figure size 432x288 with 1 Axes>"
      ]
     },
     "metadata": {
      "needs_background": "light"
     },
     "output_type": "display_data"
    },
    {
     "name": "stdout",
     "output_type": "stream",
     "text": [
      "corrent_prediction accuracy= Tensor(\"Mean_1:0\", shape=(), dtype=float32)\n",
      "训练集准确度：0.9777778\n",
      "测试集准确度：0.89166665\n"
     ]
    }
   ],
   "source": [
    "_, _, parameters = model(X_train, Y_train, X_test, Y_test,num_epochs=150)"
   ]
  },
  {
   "cell_type": "markdown",
   "id": "a45f2383",
   "metadata": {},
   "source": [
    "### 一个疑问在于改代码我并不清楚是如何更新参数的 似乎少了一个这个环节，并且无法访问更新过的参数，这也导致我并不清楚他是如何预测的，并且函数返回的parameters是否包含全连接层更新的参数我也不清楚"
   ]
  }
 ],
 "metadata": {
  "kernelspec": {
   "display_name": "Python 3",
   "language": "python",
   "name": "python3"
  },
  "language_info": {
   "codemirror_mode": {
    "name": "ipython",
    "version": 3
   },
   "file_extension": ".py",
   "mimetype": "text/x-python",
   "name": "python",
   "nbconvert_exporter": "python",
   "pygments_lexer": "ipython3",
   "version": "3.6.2"
  }
 },
 "nbformat": 4,
 "nbformat_minor": 5
}
