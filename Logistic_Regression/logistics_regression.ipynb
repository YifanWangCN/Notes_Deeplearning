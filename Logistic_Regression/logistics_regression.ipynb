{
 "cells": [
  {
   "cell_type": "code",
   "execution_count": 1,
   "id": "1a3a336b",
   "metadata": {},
   "outputs": [],
   "source": [
    "import numpy as np\n",
    "import matplotlib.pyplot as plt\n",
    "import h5py\n",
    "from lr_utils import load_dataset"
   ]
  },
  {
   "cell_type": "code",
   "execution_count": 39,
   "id": "a2cac2a9",
   "metadata": {},
   "outputs": [
    {
     "data": {
      "text/plain": [
       "<matplotlib.image.AxesImage at 0x2c58964f240>"
      ]
     },
     "execution_count": 39,
     "metadata": {},
     "output_type": "execute_result"
    },
    {
     "data": {
      "image/png": "[encoded data removed]",
      "text/plain": [
       "<Figure size 432x288 with 1 Axes>"
      ]
     },
     "metadata": {
      "needs_background": "light"
     },
     "output_type": "display_data"
    }
   ],
   "source": [
    "train_set_x_orig , train_set_y , test_set_x_orig , test_set_y , classes = load_dataset()\n",
    "\n",
    "# 访问其中的一张图片，该图片索引为25\n",
    "plt.imshow(train_set_x_orig[25])"
   ]
  },
  {
   "cell_type": "markdown",
   "id": "cf590836",
   "metadata": {},
   "source": [
    "需要注意的是， 训练集train_set_x_orig 是一个维度为（209，64，64，3）的数组\n",
    "每张图片的大小为（64，64，3）"
   ]
  },
  {
   "cell_type": "code",
   "execution_count": 41,
   "id": "dbb0de45",
   "metadata": {},
   "outputs": [
    {
     "name": "stdout",
     "output_type": "stream",
     "text": [
      "训练集的数量209,测试集的数量50\n",
      "每张图片的宽/高:64\n"
     ]
    }
   ],
   "source": [
    "#训练集里的图片数量\n",
    "m_train = train_set_y.shape[1]\n",
    "#测试集里的图片数量\n",
    "m_test = test_set_y.shape[1]\n",
    "print(\"训练集的数量\" + str(m_train) + \",\"+ \"测试集的数量\" + str(m_test))\n",
    "#每张图片的宽度和高度\n",
    "num_px = train_set_x_orig.shape[1]\n",
    "print(\"每张图片的宽/高:\" + str(num_px))"
   ]
  },
  {
   "cell_type": "markdown",
   "id": "dd85e1fd",
   "metadata": {},
   "source": [
    "下面将维度为（64，64，3）的数组重新构造成（64*64*3，1）的数组，即将一张图片R，G，B三个通道的每一个值压缩到数组中的一个列。\n",
    "之后，训练集与测试集中就是一个numpy的数组。每一列代表一个平坦的图形。（在训练集中，存在这样的209个列）\n",
    "\n",
    "下面的代码将数组变为209行的矩阵（因为有209行的照片），用-1的方式让程序自动计算有多少列，即计算出有64*64*3 = 12288列。然后通过T转置，变成一个12288行，209列的数组。测试集的做法和训练集一直。"
   ]
  },
  {
   "cell_type": "code",
   "execution_count": 64,
   "id": "d44b15a6",
   "metadata": {},
   "outputs": [
    {
     "name": "stdout",
     "output_type": "stream",
     "text": [
      "训练集的维度(12288, 209)\n",
      "测试集的维度(12288, 50)\n"
     ]
    }
   ],
   "source": [
    "#将训练集的维度降低并转置\n",
    "train_set_x_flatten = train_set_x_orig.reshape(train_set_x_orig.shape[0],-1).T\n",
    "print(\"训练集的维度\" + str(train_set_x_flatten.shape))\n",
    "#将测试集的维度降低并转置。\n",
    "test_set_x_flatten = test_set_x_orig.reshape(test_set_x_orig.shape[0], -1).T\n",
    "print(\"测试集的维度\" + str(test_set_x_flatten.shape))"
   ]
  },
  {
   "cell_type": "code",
   "execution_count": 65,
   "id": "9a055104",
   "metadata": {},
   "outputs": [],
   "source": [
    "# 数据集的标准化\n",
    "train_set_x = train_set_x_flatten / 255\n",
    "test_set_x = test_set_x_flatten / 255"
   ]
  },
  {
   "cell_type": "markdown",
   "id": "96c5031a",
   "metadata": {},
   "source": [
    "上述过程完成了数据集的加载，接下来的部分是对简单神经网络的构建\n",
    "\n",
    "建立神经网络的主要步骤是：\n",
    "\n",
    "1.定义模型结构（输入特征的数量）\n",
    "\n",
    "2.初始化模型的参数\n",
    "\n",
    "3.循环（在吴恩达的讲解中这里是无法避免需要用循环的方式进行梯度下降迭代）\n",
    "   \n",
    "   3.1计算当前损失（正向传播）\n",
    "    \n",
    "   3.2计算当前梯度（反向传播）\n",
    "    \n",
    "   3.3更新参数（梯度下降）"
   ]
  },
  {
   "cell_type": "code",
   "execution_count": 66,
   "id": "4a8f0e65",
   "metadata": {},
   "outputs": [],
   "source": [
    "#构建sigmod函数\n",
    "def sigmoid(z):\n",
    "    s = 1/(1 + np.exp(-z))\n",
    "    return s"
   ]
  },
  {
   "cell_type": "code",
   "execution_count": 67,
   "id": "e13e17b3",
   "metadata": {},
   "outputs": [],
   "source": [
    "#对sigmod进行测试\n",
    "sig_x = np.random.uniform(-20,20,size=50)\n",
    "sig_y = sigmoid(sig_x)"
   ]
  },
  {
   "cell_type": "code",
   "execution_count": 68,
   "id": "29740207",
   "metadata": {},
   "outputs": [
    {
     "data": {
      "image/png": "[encoded data removed]",
      "text/plain": [
       "<Figure size 432x288 with 1 Axes>"
      ]
     },
     "metadata": {
      "needs_background": "light"
     },
     "output_type": "display_data"
    }
   ],
   "source": [
    "plt.scatter(sig_x[:],sig_y[:],marker='+')\n",
    "plt.show()\n",
    "#sigmoid函数测试完毕"
   ]
  },
  {
   "cell_type": "code",
   "execution_count": 69,
   "id": "4fea507c",
   "metadata": {},
   "outputs": [],
   "source": [
    "#初始化模型参数 w 和 b\n",
    "def initialize_with_zeros(dim):\n",
    "    w = np.zeros((dim,1))\n",
    "    b = 0\n",
    "    \n",
    "    #返回值为后续考虑广播机制\n",
    "    return (w,b)"
   ]
  },
  {
   "cell_type": "code",
   "execution_count": 71,
   "id": "57df966d",
   "metadata": {},
   "outputs": [],
   "source": [
    "#定义Loss函数及其Propagate函数\n",
    "def propagate(w, b, X, Y):\n",
    "    \"\"\"\n",
    "    参数：\n",
    "        w:权重 在这个题目大小为（12288，1）的矩阵\n",
    "        b：偏差，一个标量\n",
    "        X：特征值，在这个任务中为（12288，209）的矩阵\n",
    "        Y：真正的标签矢量，矩阵维度为（1，209）\n",
    "    返回\n",
    "        cost：逻辑回归的负对数似然成本\n",
    "        dw：对权重w的损失梯度，维度与w相同\n",
    "        db：对于b的损失梯度，维度与b相同\n",
    "    \"\"\"\n",
    "    m = X.shape[1] #该任务中取值为209 即训练集样本数目\n",
    "    \n",
    "    #正向传播，计算损失函数的值，这里的A 为对 yhat取sigmoid后的值\n",
    "    A = sigmoid(np.dot(w.T,X)+ b)#这里运用了广播机制，计算激活函数值\n",
    "    cost = (- 1 / m) * np.sum(Y * np.log(A) + (1 - Y) * (np.log(1 - A))) \n",
    "    \n",
    "    #反向传播求梯度\n",
    "    dw = (1/m)*np.dot(X,(A-Y).T)\n",
    "    db = (1/m)*np.sum(A-Y)\n",
    "    \n",
    "    cost = np.squeeze(cost)\n",
    "    \n",
    "    #创建字典，把dw和db保存起来\n",
    "    grads = {\n",
    "                \"dw\": dw,\n",
    "                \"db\": db\n",
    "             }\n",
    "    \n",
    "    \n",
    "    return (grads , cost)"
   ]
  },
  {
   "cell_type": "code",
   "execution_count": 87,
   "id": "810eba46",
   "metadata": {},
   "outputs": [],
   "source": [
    "#梯度下降迭代来最小化cost函数\n",
    "\n",
    "#需要对参数进行说明，print_cost表示每100次迭代打印一次损失值\n",
    "def optimize(w, b, X, Y, num_iterations, learning_rate, print_cost = False):\n",
    "    \n",
    "    costs = [] #该列表用来后续做学习曲线可视化\n",
    "    \n",
    "    for i in range(num_iterations):\n",
    "        grads,cost = propagate(w, b, X, Y)\n",
    "        \n",
    "        dw = grads[\"dw\"]\n",
    "        db = grads[\"db\"]\n",
    "        \n",
    "        w = w - learning_rate * dw\n",
    "        b = b - learning_rate * db\n",
    "        \n",
    "        #记录成本\n",
    "        if i % 100 == 0:\n",
    "            costs.append(cost)\n",
    "            \n",
    "        #打印成本数据\n",
    "        #if (print_cost) and (i % 100 == 0):\n",
    "            # print(\"迭代的次数: %i ， 误差值： %f\" % (i,cost))\n",
    "        \n",
    "        params  = {\n",
    "                    \"w\" : w,\n",
    "                    \"b\" : b }\n",
    "        grads = {\n",
    "                \"dw\": dw,\n",
    "                \"db\": db } \n",
    "    return (params , grads , costs)\n",
    "\n",
    "    "
   ]
  },
  {
   "cell_type": "markdown",
   "id": "01c45901",
   "metadata": {},
   "source": [
    "Optimize函数会输出已经学习的w和b的值， 我们可以使用w和b来预测数据集x的标签\n",
    "\n",
    "接下来是预测函数predict（）。 该函数主要有两个步骤：\n",
    "\n",
    "1. 计算 yhat 通过sigmoid 函数获得的值\n",
    "\n",
    "2. 将获得的 a 的值 做一个二分类 即如果激活值<0.5 a = 0； 如果激活值> 0.5, a = 1。\n",
    "\n",
    "当然上述的阈值完全可以人为进行改变 该参数的设置在一定程度上会对预测的精度造成很显著的影响\n"
   ]
  },
  {
   "cell_type": "code",
   "execution_count": 88,
   "id": "b549aefd",
   "metadata": {},
   "outputs": [],
   "source": [
    "def predict(w, b, X):\n",
    "    m = X.shape[1] #测试集图片的数量，该任务中是50\n",
    "    Y_prediction = np.zeros((1,m))\n",
    "    w = w.reshape(X.shape[0],1)\n",
    "    \n",
    "    #计预测猫在图片中出现的概率\n",
    "    A = sigmoid(np.dot(w.T , X) + b)\n",
    "    \n",
    "    for i in range(A.shape[1]):\n",
    "    #将概率a [0，i]转换为实际预测p [0，i]\n",
    "        Y_prediction[0,i] = 1 if A[0,i] > 0.5 else 0\n",
    "    \n",
    "    return Y_prediction"
   ]
  },
  {
   "cell_type": "markdown",
   "id": "aec81e07",
   "metadata": {},
   "source": [
    "到目前为止完成所有函数的编写，最后通过一个model（）函数对整体进行封装"
   ]
  },
  {
   "cell_type": "code",
   "execution_count": 95,
   "id": "71d04d86",
   "metadata": {},
   "outputs": [],
   "source": [
    "def model(X_train , Y_train , X_test , Y_test , num_iterations = 2000 , learning_rate = 0.5 , print_cost = False):\n",
    "    \"\"\"\n",
    "    通过调用之前实现的函数来构建逻辑回归模型\n",
    "    \n",
    "    参数：\n",
    "        X_train  - numpy的数组,维度为（num_px * num_px * 3，m_train）的训练集\n",
    "        Y_train  - numpy的数组,维度为（1，m_train）（矢量）的训练标签集\n",
    "        X_test   - numpy的数组,维度为（num_px * num_px * 3，m_test）的测试集\n",
    "        Y_test   - numpy的数组,维度为（1，m_test）的（向量）的测试标签集\n",
    "        num_iterations  - 表示用于优化参数的迭代次数的超参数\n",
    "        learning_rate  - 表示optimize（）更新规则中使用的学习速率的超参数\n",
    "        print_cost  - 设置为true以每100次迭代打印成本\n",
    "    \n",
    "    返回：\n",
    "        d  - 包含有关模型信息的字典。\n",
    "    \"\"\"\n",
    "    w , b = initialize_with_zeros(X_train.shape[0])\n",
    "    \n",
    "    parameters , grads , costs = optimize(w , b , X_train , Y_train, num_iterations , learning_rate , print_cost)\n",
    "    \n",
    "    #从字典“参数”中检索参数w和b\n",
    "    w , b = parameters[\"w\"] , parameters[\"b\"]\n",
    "    \n",
    "    #预测测试/训练集的例子\n",
    "    Y_prediction_test = predict(w , b, X_test)\n",
    "    # Y_prediction_train = predict(w , b, X_train)\n",
    "    \n",
    "    #打印训练后的准确性\n",
    "    print(np.abs(Y_prediction_test - Y_test))\n",
    "    print(\"测试集准确性：\"  , format(100 - np.mean(np.abs(Y_prediction_test - Y_test)) * 100) ,\"%\")\n",
    "    \n",
    "    d = {\n",
    "            \"costs\" : costs,\n",
    "            \"Y_prediction_test\" : Y_prediction_test,\n",
    "            \"w\" : w,\n",
    "            \"b\" : b,\n",
    "            \"learning_rate\" : learning_rate,\n",
    "            \"num_iterations\" : num_iterations }\n",
    "    return d\n"
   ]
  },
  {
   "cell_type": "code",
   "execution_count": 96,
   "id": "6b070fe2",
   "metadata": {},
   "outputs": [
    {
     "name": "stdout",
     "output_type": "stream",
     "text": [
      "====================测试model====================\n",
      "[[0. 0. 0. 0. 0. 1. 1. 0. 0. 0. 1. 1. 0. 1. 0. 0. 0. 0. 1. 1. 0. 0. 0. 0.\n",
      "  0. 0. 0. 0. 1. 1. 1. 0. 0. 0. 1. 0. 0. 0. 0. 0. 0. 1. 0. 0. 1. 1. 1. 0.\n",
      "  0. 0.]]\n",
      "测试集准确性： 70.0 %\n"
     ]
    }
   ],
   "source": [
    "print(\"====================测试model====================\")     \n",
    "#这里加载的是真实的数据，请参见上面的代码部分。\n",
    "d = model(train_set_x, train_set_y, test_set_x, test_set_y, num_iterations = 5000, learning_rate = 0.005, print_cost = True)"
   ]
  },
  {
   "cell_type": "markdown",
   "id": "b2ffd3be",
   "metadata": {},
   "source": [
    "对于深度学习模型来说，调参中一个很重要的参数就是学习率的选择，接下来我比较了不同学习率在迭代次数相同的情况下，cost的下降曲线"
   ]
  },
  {
   "cell_type": "code",
   "execution_count": 97,
   "id": "c2522574",
   "metadata": {},
   "outputs": [
    {
     "name": "stdout",
     "output_type": "stream",
     "text": [
      "learning rate is: 0.01\n",
      "[[0. 0. 0. 0. 0. 1. 1. 0. 0. 0. 1. 1. 0. 1. 0. 0. 0. 0. 1. 1. 0. 0. 0. 0.\n",
      "  0. 0. 0. 0. 1. 1. 1. 0. 0. 1. 1. 0. 0. 0. 0. 0. 0. 1. 0. 0. 1. 1. 1. 0.\n",
      "  0. 0.]]\n",
      "测试集准确性： 68.0 %\n",
      "\n",
      "-------------------------------------------------------\n",
      "\n",
      "learning rate is: 0.005\n",
      "[[0. 0. 0. 0. 0. 1. 1. 0. 0. 0. 1. 1. 0. 1. 0. 0. 0. 0. 1. 1. 0. 0. 0. 0.\n",
      "  0. 0. 0. 0. 1. 1. 1. 0. 0. 1. 1. 0. 0. 0. 0. 0. 0. 1. 0. 0. 1. 0. 1. 0.\n",
      "  0. 0.]]\n",
      "测试集准确性： 70.0 %\n",
      "\n",
      "-------------------------------------------------------\n",
      "\n",
      "learning rate is: 0.001\n",
      "[[0. 0. 0. 0. 0. 0. 1. 0. 0. 0. 1. 1. 0. 1. 0. 0. 0. 0. 1. 1. 0. 0. 0. 1.\n",
      "  0. 0. 1. 0. 1. 1. 1. 0. 0. 1. 1. 0. 0. 0. 0. 0. 1. 0. 1. 0. 1. 0. 1. 0.\n",
      "  1. 0.]]\n",
      "测试集准确性： 64.0 %\n",
      "\n",
      "-------------------------------------------------------\n",
      "\n",
      "learning rate is: 0.0001\n",
      "[[1. 1. 1. 1. 1. 0. 1. 1. 1. 1. 1. 1. 1. 1. 0. 1. 0. 1. 1. 1. 1. 0. 0. 1.\n",
      "  0. 1. 1. 0. 1. 0. 1. 1. 1. 1. 0. 0. 0. 1. 0. 0. 1. 1. 1. 0. 0. 0. 1. 0.\n",
      "  1. 0.]]\n",
      "测试集准确性： 36.0 %\n",
      "\n",
      "-------------------------------------------------------\n",
      "\n"
     ]
    },
    {
     "data": {
      "image/png": "[encoded data removed]",
      "text/plain": [
       "<Figure size 432x288 with 1 Axes>"
      ]
     },
     "metadata": {
      "needs_background": "light"
     },
     "output_type": "display_data"
    }
   ],
   "source": [
    "learning_rates = [0.01, 0.005, 0.001, 0.0001]\n",
    "models ={}\n",
    "for i in learning_rates:\n",
    "    print (\"learning rate is: \" + str(i))\n",
    "    models[str(i)] = model(train_set_x, train_set_y, test_set_x, test_set_y, num_iterations = 1500, learning_rate = i, print_cost = False)\n",
    "    print ('\\n' + \"-------------------------------------------------------\" + '\\n')\n",
    "\n",
    "for i in learning_rates:\n",
    "    plt.plot(np.squeeze(models[str(i)][\"costs\"]), label= str(models[str(i)][\"learning_rate\"]))\n",
    "\n",
    "plt.ylabel('cost')\n",
    "plt.xlabel('iterations')\n",
    "\n",
    "legend = plt.legend(loc='upper center', shadow=True)\n",
    "frame = legend.get_frame()\n",
    "frame.set_facecolor('0.90')\n",
    "plt.show()"
   ]
  },
  {
   "cell_type": "code",
   "execution_count": null,
   "id": "89609119",
   "metadata": {},
   "outputs": [],
   "source": []
  }
 ],
 "metadata": {
  "kernelspec": {
   "display_name": "Python 3",
   "language": "python",
   "name": "python3"
  },
  "language_info": {
   "codemirror_mode": {
    "name": "ipython",
    "version": 3
   },
   "file_extension": ".py",
   "mimetype": "text/x-python",
   "name": "python",
   "nbconvert_exporter": "python",
   "pygments_lexer": "ipython3",
   "version": "3.6.2"
  }
 },
 "nbformat": 4,
 "nbformat_minor": 5
}
